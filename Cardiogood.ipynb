{
 "cells": [
  {
   "cell_type": "code",
   "execution_count": 1,
   "id": "3ec7f309",
   "metadata": {},
   "outputs": [],
   "source": [
    "import pandas as pd\n",
    "import numpy as np\n",
    "import matplotlib.pyplot as plt\n",
    "import seaborn as sns\n",
    "import plotly.express as px\n",
    "import plotly.graph_objects as go\n",
    "mydata=pd.read_csv('CardioGoodFitness.csv')"
   ]
  },
  {
   "cell_type": "code",
   "execution_count": 2,
   "id": "89c6a22b",
   "metadata": {},
   "outputs": [],
   "source": [
    "pd.set_option('display.max_columns', None)\n",
    "pd.set_option('display.max_rows', None)\n",
    "pd.set_option('display.float_format', lambda x: '%.3f' % x)\n",
    "pd.set_option('display.precision', 3)\n"
   ]
  },
  {
   "cell_type": "code",
   "execution_count": 3,
   "id": "d611bfca",
   "metadata": {},
   "outputs": [
    {
     "data": {
      "application/vnd.microsoft.datawrangler.viewer.v0+json": {
       "columns": [
        {
         "name": "index",
         "rawType": "int64",
         "type": "integer"
        },
        {
         "name": "Product",
         "rawType": "object",
         "type": "string"
        },
        {
         "name": "Age",
         "rawType": "int64",
         "type": "integer"
        },
        {
         "name": "Gender",
         "rawType": "object",
         "type": "string"
        },
        {
         "name": "Education",
         "rawType": "int64",
         "type": "integer"
        },
        {
         "name": "MaritalStatus",
         "rawType": "object",
         "type": "string"
        },
        {
         "name": "Usage",
         "rawType": "int64",
         "type": "integer"
        },
        {
         "name": "Fitness",
         "rawType": "int64",
         "type": "integer"
        },
        {
         "name": "Income",
         "rawType": "int64",
         "type": "integer"
        },
        {
         "name": "Miles",
         "rawType": "int64",
         "type": "integer"
        }
       ],
       "conversionMethod": "pd.DataFrame",
       "ref": "c36da311-5a32-4abc-80b6-7bfa33a4d6ad",
       "rows": [
        [
         "0",
         "TM195",
         "18",
         "Male",
         "14",
         "Single",
         "3",
         "4",
         "29562",
         "112"
        ],
        [
         "1",
         "TM195",
         "19",
         "Male",
         "15",
         "Single",
         "2",
         "3",
         "31836",
         "75"
        ],
        [
         "2",
         "TM195",
         "19",
         "Female",
         "14",
         "Partnered",
         "4",
         "3",
         "30699",
         "66"
        ],
        [
         "3",
         "TM195",
         "19",
         "Male",
         "12",
         "Single",
         "3",
         "3",
         "32973",
         "85"
        ],
        [
         "4",
         "TM195",
         "20",
         "Male",
         "13",
         "Partnered",
         "4",
         "2",
         "35247",
         "47"
        ]
       ],
       "shape": {
        "columns": 9,
        "rows": 5
       }
      },
      "text/html": [
       "<div>\n",
       "<style scoped>\n",
       "    .dataframe tbody tr th:only-of-type {\n",
       "        vertical-align: middle;\n",
       "    }\n",
       "\n",
       "    .dataframe tbody tr th {\n",
       "        vertical-align: top;\n",
       "    }\n",
       "\n",
       "    .dataframe thead th {\n",
       "        text-align: right;\n",
       "    }\n",
       "</style>\n",
       "<table border=\"1\" class=\"dataframe\">\n",
       "  <thead>\n",
       "    <tr style=\"text-align: right;\">\n",
       "      <th></th>\n",
       "      <th>Product</th>\n",
       "      <th>Age</th>\n",
       "      <th>Gender</th>\n",
       "      <th>Education</th>\n",
       "      <th>MaritalStatus</th>\n",
       "      <th>Usage</th>\n",
       "      <th>Fitness</th>\n",
       "      <th>Income</th>\n",
       "      <th>Miles</th>\n",
       "    </tr>\n",
       "  </thead>\n",
       "  <tbody>\n",
       "    <tr>\n",
       "      <th>0</th>\n",
       "      <td>TM195</td>\n",
       "      <td>18</td>\n",
       "      <td>Male</td>\n",
       "      <td>14</td>\n",
       "      <td>Single</td>\n",
       "      <td>3</td>\n",
       "      <td>4</td>\n",
       "      <td>29562</td>\n",
       "      <td>112</td>\n",
       "    </tr>\n",
       "    <tr>\n",
       "      <th>1</th>\n",
       "      <td>TM195</td>\n",
       "      <td>19</td>\n",
       "      <td>Male</td>\n",
       "      <td>15</td>\n",
       "      <td>Single</td>\n",
       "      <td>2</td>\n",
       "      <td>3</td>\n",
       "      <td>31836</td>\n",
       "      <td>75</td>\n",
       "    </tr>\n",
       "    <tr>\n",
       "      <th>2</th>\n",
       "      <td>TM195</td>\n",
       "      <td>19</td>\n",
       "      <td>Female</td>\n",
       "      <td>14</td>\n",
       "      <td>Partnered</td>\n",
       "      <td>4</td>\n",
       "      <td>3</td>\n",
       "      <td>30699</td>\n",
       "      <td>66</td>\n",
       "    </tr>\n",
       "    <tr>\n",
       "      <th>3</th>\n",
       "      <td>TM195</td>\n",
       "      <td>19</td>\n",
       "      <td>Male</td>\n",
       "      <td>12</td>\n",
       "      <td>Single</td>\n",
       "      <td>3</td>\n",
       "      <td>3</td>\n",
       "      <td>32973</td>\n",
       "      <td>85</td>\n",
       "    </tr>\n",
       "    <tr>\n",
       "      <th>4</th>\n",
       "      <td>TM195</td>\n",
       "      <td>20</td>\n",
       "      <td>Male</td>\n",
       "      <td>13</td>\n",
       "      <td>Partnered</td>\n",
       "      <td>4</td>\n",
       "      <td>2</td>\n",
       "      <td>35247</td>\n",
       "      <td>47</td>\n",
       "    </tr>\n",
       "  </tbody>\n",
       "</table>\n",
       "</div>"
      ],
      "text/plain": [
       "  Product  Age  Gender  Education MaritalStatus  Usage  Fitness  Income  Miles\n",
       "0   TM195   18    Male         14        Single      3        4   29562    112\n",
       "1   TM195   19    Male         15        Single      2        3   31836     75\n",
       "2   TM195   19  Female         14     Partnered      4        3   30699     66\n",
       "3   TM195   19    Male         12        Single      3        3   32973     85\n",
       "4   TM195   20    Male         13     Partnered      4        2   35247     47"
      ]
     },
     "execution_count": 3,
     "metadata": {},
     "output_type": "execute_result"
    }
   ],
   "source": [
    "mydata.head()"
   ]
  },
  {
   "cell_type": "code",
   "execution_count": 4,
   "id": "f9e3f599",
   "metadata": {},
   "outputs": [
    {
     "data": {
      "text/plain": [
       "Product          0\n",
       "Age              0\n",
       "Gender           0\n",
       "Education        0\n",
       "MaritalStatus    0\n",
       "Usage            0\n",
       "Fitness          0\n",
       "Income           0\n",
       "Miles            0\n",
       "dtype: int64"
      ]
     },
     "execution_count": 4,
     "metadata": {},
     "output_type": "execute_result"
    }
   ],
   "source": [
    "mydata.isnull().sum()\n"
   ]
  },
  {
   "cell_type": "code",
   "execution_count": 5,
   "id": "0afba820",
   "metadata": {},
   "outputs": [
    {
     "name": "stdout",
     "output_type": "stream",
     "text": [
      "<class 'pandas.core.frame.DataFrame'>\n",
      "RangeIndex: 180 entries, 0 to 179\n",
      "Data columns (total 9 columns):\n",
      " #   Column         Non-Null Count  Dtype \n",
      "---  ------         --------------  ----- \n",
      " 0   Product        180 non-null    object\n",
      " 1   Age            180 non-null    int64 \n",
      " 2   Gender         180 non-null    object\n",
      " 3   Education      180 non-null    int64 \n",
      " 4   MaritalStatus  180 non-null    object\n",
      " 5   Usage          180 non-null    int64 \n",
      " 6   Fitness        180 non-null    int64 \n",
      " 7   Income         180 non-null    int64 \n",
      " 8   Miles          180 non-null    int64 \n",
      "dtypes: int64(6), object(3)\n",
      "memory usage: 12.8+ KB\n"
     ]
    }
   ],
   "source": [
    "mydata.info()"
   ]
  },
  {
   "cell_type": "code",
   "execution_count": 6,
   "id": "09b66e62",
   "metadata": {},
   "outputs": [
    {
     "data": {
      "application/vnd.microsoft.datawrangler.viewer.v0+json": {
       "columns": [
        {
         "name": "index",
         "rawType": "object",
         "type": "string"
        },
        {
         "name": "Product",
         "rawType": "object",
         "type": "unknown"
        },
        {
         "name": "Age",
         "rawType": "float64",
         "type": "float"
        },
        {
         "name": "Gender",
         "rawType": "object",
         "type": "unknown"
        },
        {
         "name": "Education",
         "rawType": "float64",
         "type": "float"
        },
        {
         "name": "MaritalStatus",
         "rawType": "object",
         "type": "unknown"
        },
        {
         "name": "Usage",
         "rawType": "float64",
         "type": "float"
        },
        {
         "name": "Fitness",
         "rawType": "float64",
         "type": "float"
        },
        {
         "name": "Income",
         "rawType": "float64",
         "type": "float"
        },
        {
         "name": "Miles",
         "rawType": "float64",
         "type": "float"
        }
       ],
       "conversionMethod": "pd.DataFrame",
       "ref": "51cad8f4-c004-467c-a41b-64707add514e",
       "rows": [
        [
         "count",
         "180",
         "180.0",
         "180",
         "180.0",
         "180",
         "180.0",
         "180.0",
         "180.0",
         "180.0"
        ],
        [
         "unique",
         "3",
         null,
         "2",
         null,
         "2",
         null,
         null,
         null,
         null
        ],
        [
         "top",
         "TM195",
         null,
         "Male",
         null,
         "Partnered",
         null,
         null,
         null,
         null
        ],
        [
         "freq",
         "80",
         null,
         "104",
         null,
         "107",
         null,
         null,
         null,
         null
        ],
        [
         "mean",
         null,
         "28.788888888888888",
         null,
         "15.572222222222223",
         null,
         "3.4555555555555557",
         "3.311111111111111",
         "53719.57777777778",
         "103.19444444444444"
        ],
        [
         "std",
         null,
         "6.943498135399795",
         null,
         "1.6170548978065569",
         null,
         "1.0847970343962436",
         "0.958868565619312",
         "16506.68422623862",
         "51.86360466180931"
        ],
        [
         "min",
         null,
         "18.0",
         null,
         "12.0",
         null,
         "2.0",
         "1.0",
         "29562.0",
         "21.0"
        ],
        [
         "25%",
         null,
         "24.0",
         null,
         "14.0",
         null,
         "3.0",
         "3.0",
         "44058.75",
         "66.0"
        ],
        [
         "50%",
         null,
         "26.0",
         null,
         "16.0",
         null,
         "3.0",
         "3.0",
         "50596.5",
         "94.0"
        ],
        [
         "75%",
         null,
         "33.0",
         null,
         "16.0",
         null,
         "4.0",
         "4.0",
         "58668.0",
         "114.75"
        ],
        [
         "max",
         null,
         "50.0",
         null,
         "21.0",
         null,
         "7.0",
         "5.0",
         "104581.0",
         "360.0"
        ]
       ],
       "shape": {
        "columns": 9,
        "rows": 11
       }
      },
      "text/html": [
       "<div>\n",
       "<style scoped>\n",
       "    .dataframe tbody tr th:only-of-type {\n",
       "        vertical-align: middle;\n",
       "    }\n",
       "\n",
       "    .dataframe tbody tr th {\n",
       "        vertical-align: top;\n",
       "    }\n",
       "\n",
       "    .dataframe thead th {\n",
       "        text-align: right;\n",
       "    }\n",
       "</style>\n",
       "<table border=\"1\" class=\"dataframe\">\n",
       "  <thead>\n",
       "    <tr style=\"text-align: right;\">\n",
       "      <th></th>\n",
       "      <th>Product</th>\n",
       "      <th>Age</th>\n",
       "      <th>Gender</th>\n",
       "      <th>Education</th>\n",
       "      <th>MaritalStatus</th>\n",
       "      <th>Usage</th>\n",
       "      <th>Fitness</th>\n",
       "      <th>Income</th>\n",
       "      <th>Miles</th>\n",
       "    </tr>\n",
       "  </thead>\n",
       "  <tbody>\n",
       "    <tr>\n",
       "      <th>count</th>\n",
       "      <td>180</td>\n",
       "      <td>180.000</td>\n",
       "      <td>180</td>\n",
       "      <td>180.000</td>\n",
       "      <td>180</td>\n",
       "      <td>180.000</td>\n",
       "      <td>180.000</td>\n",
       "      <td>180.000</td>\n",
       "      <td>180.000</td>\n",
       "    </tr>\n",
       "    <tr>\n",
       "      <th>unique</th>\n",
       "      <td>3</td>\n",
       "      <td>NaN</td>\n",
       "      <td>2</td>\n",
       "      <td>NaN</td>\n",
       "      <td>2</td>\n",
       "      <td>NaN</td>\n",
       "      <td>NaN</td>\n",
       "      <td>NaN</td>\n",
       "      <td>NaN</td>\n",
       "    </tr>\n",
       "    <tr>\n",
       "      <th>top</th>\n",
       "      <td>TM195</td>\n",
       "      <td>NaN</td>\n",
       "      <td>Male</td>\n",
       "      <td>NaN</td>\n",
       "      <td>Partnered</td>\n",
       "      <td>NaN</td>\n",
       "      <td>NaN</td>\n",
       "      <td>NaN</td>\n",
       "      <td>NaN</td>\n",
       "    </tr>\n",
       "    <tr>\n",
       "      <th>freq</th>\n",
       "      <td>80</td>\n",
       "      <td>NaN</td>\n",
       "      <td>104</td>\n",
       "      <td>NaN</td>\n",
       "      <td>107</td>\n",
       "      <td>NaN</td>\n",
       "      <td>NaN</td>\n",
       "      <td>NaN</td>\n",
       "      <td>NaN</td>\n",
       "    </tr>\n",
       "    <tr>\n",
       "      <th>mean</th>\n",
       "      <td>NaN</td>\n",
       "      <td>28.789</td>\n",
       "      <td>NaN</td>\n",
       "      <td>15.572</td>\n",
       "      <td>NaN</td>\n",
       "      <td>3.456</td>\n",
       "      <td>3.311</td>\n",
       "      <td>53719.578</td>\n",
       "      <td>103.194</td>\n",
       "    </tr>\n",
       "    <tr>\n",
       "      <th>std</th>\n",
       "      <td>NaN</td>\n",
       "      <td>6.943</td>\n",
       "      <td>NaN</td>\n",
       "      <td>1.617</td>\n",
       "      <td>NaN</td>\n",
       "      <td>1.085</td>\n",
       "      <td>0.959</td>\n",
       "      <td>16506.684</td>\n",
       "      <td>51.864</td>\n",
       "    </tr>\n",
       "    <tr>\n",
       "      <th>min</th>\n",
       "      <td>NaN</td>\n",
       "      <td>18.000</td>\n",
       "      <td>NaN</td>\n",
       "      <td>12.000</td>\n",
       "      <td>NaN</td>\n",
       "      <td>2.000</td>\n",
       "      <td>1.000</td>\n",
       "      <td>29562.000</td>\n",
       "      <td>21.000</td>\n",
       "    </tr>\n",
       "    <tr>\n",
       "      <th>25%</th>\n",
       "      <td>NaN</td>\n",
       "      <td>24.000</td>\n",
       "      <td>NaN</td>\n",
       "      <td>14.000</td>\n",
       "      <td>NaN</td>\n",
       "      <td>3.000</td>\n",
       "      <td>3.000</td>\n",
       "      <td>44058.750</td>\n",
       "      <td>66.000</td>\n",
       "    </tr>\n",
       "    <tr>\n",
       "      <th>50%</th>\n",
       "      <td>NaN</td>\n",
       "      <td>26.000</td>\n",
       "      <td>NaN</td>\n",
       "      <td>16.000</td>\n",
       "      <td>NaN</td>\n",
       "      <td>3.000</td>\n",
       "      <td>3.000</td>\n",
       "      <td>50596.500</td>\n",
       "      <td>94.000</td>\n",
       "    </tr>\n",
       "    <tr>\n",
       "      <th>75%</th>\n",
       "      <td>NaN</td>\n",
       "      <td>33.000</td>\n",
       "      <td>NaN</td>\n",
       "      <td>16.000</td>\n",
       "      <td>NaN</td>\n",
       "      <td>4.000</td>\n",
       "      <td>4.000</td>\n",
       "      <td>58668.000</td>\n",
       "      <td>114.750</td>\n",
       "    </tr>\n",
       "    <tr>\n",
       "      <th>max</th>\n",
       "      <td>NaN</td>\n",
       "      <td>50.000</td>\n",
       "      <td>NaN</td>\n",
       "      <td>21.000</td>\n",
       "      <td>NaN</td>\n",
       "      <td>7.000</td>\n",
       "      <td>5.000</td>\n",
       "      <td>104581.000</td>\n",
       "      <td>360.000</td>\n",
       "    </tr>\n",
       "  </tbody>\n",
       "</table>\n",
       "</div>"
      ],
      "text/plain": [
       "       Product     Age Gender  Education MaritalStatus   Usage  Fitness  \\\n",
       "count      180 180.000    180    180.000           180 180.000  180.000   \n",
       "unique       3     NaN      2        NaN             2     NaN      NaN   \n",
       "top      TM195     NaN   Male        NaN     Partnered     NaN      NaN   \n",
       "freq        80     NaN    104        NaN           107     NaN      NaN   \n",
       "mean       NaN  28.789    NaN     15.572           NaN   3.456    3.311   \n",
       "std        NaN   6.943    NaN      1.617           NaN   1.085    0.959   \n",
       "min        NaN  18.000    NaN     12.000           NaN   2.000    1.000   \n",
       "25%        NaN  24.000    NaN     14.000           NaN   3.000    3.000   \n",
       "50%        NaN  26.000    NaN     16.000           NaN   3.000    3.000   \n",
       "75%        NaN  33.000    NaN     16.000           NaN   4.000    4.000   \n",
       "max        NaN  50.000    NaN     21.000           NaN   7.000    5.000   \n",
       "\n",
       "           Income   Miles  \n",
       "count     180.000 180.000  \n",
       "unique        NaN     NaN  \n",
       "top           NaN     NaN  \n",
       "freq          NaN     NaN  \n",
       "mean    53719.578 103.194  \n",
       "std     16506.684  51.864  \n",
       "min     29562.000  21.000  \n",
       "25%     44058.750  66.000  \n",
       "50%     50596.500  94.000  \n",
       "75%     58668.000 114.750  \n",
       "max    104581.000 360.000  "
      ]
     },
     "execution_count": 6,
     "metadata": {},
     "output_type": "execute_result"
    }
   ],
   "source": [
    "mydata.describe(include='all')\n"
   ]
  },
  {
   "cell_type": "code",
   "execution_count": 7,
   "id": "66a87745",
   "metadata": {},
   "outputs": [
    {
     "name": "stdout",
     "output_type": "stream",
     "text": [
      "<class 'pandas.core.frame.DataFrame'>\n",
      "RangeIndex: 180 entries, 0 to 179\n",
      "Data columns (total 9 columns):\n",
      " #   Column         Non-Null Count  Dtype \n",
      "---  ------         --------------  ----- \n",
      " 0   Product        180 non-null    object\n",
      " 1   Age            180 non-null    int64 \n",
      " 2   Gender         180 non-null    object\n",
      " 3   Education      180 non-null    int64 \n",
      " 4   MaritalStatus  180 non-null    object\n",
      " 5   Usage          180 non-null    int64 \n",
      " 6   Fitness        180 non-null    int64 \n",
      " 7   Income         180 non-null    int64 \n",
      " 8   Miles          180 non-null    int64 \n",
      "dtypes: int64(6), object(3)\n",
      "memory usage: 12.8+ KB\n"
     ]
    }
   ],
   "source": [
    "mydata.info()"
   ]
  },
  {
   "cell_type": "code",
   "execution_count": 8,
   "id": "4838d29f",
   "metadata": {},
   "outputs": [
    {
     "data": {
      "image/png": "[encoded data removed]",
      "text/plain": [
       "<Figure size 1500x500 with 1 Axes>"
      ]
     },
     "metadata": {},
     "output_type": "display_data"
    }
   ],
   "source": [
    "mydata['Age'].value_counts().sort_index(ascending=True).plot(kind='bar', figsize=(15, 5), color='blue', alpha=0.7, edgecolor='black')\n",
    "plt.title('Age Distribution')\n",
    "plt.xlabel('Age')\n",
    "plt.ylabel('Count')\n",
    "plt.xticks(rotation=0)\n",
    "plt.grid(axis='y', linestyle='--', alpha=0.7)\n",
    "plt.show()"
   ]
  },
  {
   "cell_type": "code",
   "execution_count": 9,
   "id": "25e67031",
   "metadata": {},
   "outputs": [
    {
     "data": {
      "image/png": "[encoded data removed]",
      "text/plain": [
       "<Figure size 1500x1000 with 6 Axes>"
      ]
     },
     "metadata": {},
     "output_type": "display_data"
    }
   ],
   "source": [
    "mydata.hist(figsize=(15, 10), bins=20, color='blue', alpha=0.7, edgecolor='black')\n",
    "plt.suptitle('Histogram of Numerical Features', fontsize=16)\n",
    "plt.show()\n"
   ]
  },
  {
   "cell_type": "code",
   "execution_count": 10,
   "id": "7ae1bdf4",
   "metadata": {},
   "outputs": [
    {
     "data": {
      "text/plain": [
       "<Axes: xlabel='Age'>"
      ]
     },
     "execution_count": 10,
     "metadata": {},
     "output_type": "execute_result"
    },
    {
     "data": {
      "image/png": "[encoded data removed]",
      "text/plain": [
       "<Figure size 1500x500 with 1 Axes>"
      ]
     },
     "metadata": {},
     "output_type": "display_data"
    }
   ],
   "source": [
    "mydata['Age'].value_counts().sort_index(ascending=True).plot(kind='bar', figsize=(15, 5), color='blue', alpha=0.7, edgecolor='black') "
   ]
  },
  {
   "cell_type": "code",
   "execution_count": 11,
   "id": "0a2b01e0",
   "metadata": {},
   "outputs": [
    {
     "data": {
      "text/plain": [
       "<Axes: xlabel='Age', ylabel='Count'>"
      ]
     },
     "execution_count": 11,
     "metadata": {},
     "output_type": "execute_result"
    },
    {
     "data": {
      "image/png": "[encoded data removed]",
      "text/plain": [
       "<Figure size 640x480 with 1 Axes>"
      ]
     },
     "metadata": {},
     "output_type": "display_data"
    }
   ],
   "source": [
    "sns.set_style(\"whitegrid\")\n",
    "sns.set_palette(\"pastel\")\n",
    "sns.histplot(mydata['Age'], bins=20, kde=True, color='blue', alpha=0.7, edgecolor='black')         \n"
   ]
  },
  {
   "cell_type": "code",
   "execution_count": 12,
   "id": "06c2c966",
   "metadata": {},
   "outputs": [
    {
     "data": {
      "text/plain": [
       "Text(0.5, 1.0, 'Age Distribution with KDE')"
      ]
     },
     "execution_count": 12,
     "metadata": {},
     "output_type": "execute_result"
    },
    {
     "data": {
      "image/png": "[encoded data removed]",
      "text/plain": [
       "<Figure size 640x480 with 1 Axes>"
      ]
     },
     "metadata": {},
     "output_type": "display_data"
    }
   ],
   "source": [
    "sns.histplot(mydata['Age'], bins=20, kde=True, color='blue', alpha=0.7, edgecolor='black')\n",
    "plt.title('Age Distribution with KDE')       "
   ]
  },
  {
   "cell_type": "code",
   "execution_count": 13,
   "id": "9727002c",
   "metadata": {},
   "outputs": [
    {
     "data": {
      "text/plain": [
       "Text(0.5, 1.0, 'Boxplot of Age Distribution')"
      ]
     },
     "execution_count": 13,
     "metadata": {},
     "output_type": "execute_result"
    },
    {
     "data": {
      "image/png": "[encoded data removed]",
      "text/plain": [
       "<Figure size 640x480 with 1 Axes>"
      ]
     },
     "metadata": {},
     "output_type": "display_data"
    }
   ],
   "source": [
    "sns.boxplot(x='Gender', y='Age', data=mydata, color='blue')\n",
    "plt.title('Boxplot of Age Distribution')"
   ]
  },
  {
   "cell_type": "code",
   "execution_count": 14,
   "id": "2bd0b7ee",
   "metadata": {},
   "outputs": [
    {
     "data": {
      "application/vnd.microsoft.datawrangler.viewer.v0+json": {
       "columns": [
        {
         "name": "Product",
         "rawType": "object",
         "type": "string"
        },
        {
         "name": "Female",
         "rawType": "int64",
         "type": "integer"
        },
        {
         "name": "Male",
         "rawType": "int64",
         "type": "integer"
        }
       ],
       "conversionMethod": "pd.DataFrame",
       "ref": "8b40f78c-6fdb-4522-b34b-4ccba47ba663",
       "rows": [
        [
         "TM195",
         "40",
         "40"
        ],
        [
         "TM498",
         "29",
         "31"
        ],
        [
         "TM798",
         "7",
         "33"
        ]
       ],
       "shape": {
        "columns": 2,
        "rows": 3
       }
      },
      "text/html": [
       "<div>\n",
       "<style scoped>\n",
       "    .dataframe tbody tr th:only-of-type {\n",
       "        vertical-align: middle;\n",
       "    }\n",
       "\n",
       "    .dataframe tbody tr th {\n",
       "        vertical-align: top;\n",
       "    }\n",
       "\n",
       "    .dataframe thead th {\n",
       "        text-align: right;\n",
       "    }\n",
       "</style>\n",
       "<table border=\"1\" class=\"dataframe\">\n",
       "  <thead>\n",
       "    <tr style=\"text-align: right;\">\n",
       "      <th>Gender</th>\n",
       "      <th>Female</th>\n",
       "      <th>Male</th>\n",
       "    </tr>\n",
       "    <tr>\n",
       "      <th>Product</th>\n",
       "      <th></th>\n",
       "      <th></th>\n",
       "    </tr>\n",
       "  </thead>\n",
       "  <tbody>\n",
       "    <tr>\n",
       "      <th>TM195</th>\n",
       "      <td>40</td>\n",
       "      <td>40</td>\n",
       "    </tr>\n",
       "    <tr>\n",
       "      <th>TM498</th>\n",
       "      <td>29</td>\n",
       "      <td>31</td>\n",
       "    </tr>\n",
       "    <tr>\n",
       "      <th>TM798</th>\n",
       "      <td>7</td>\n",
       "      <td>33</td>\n",
       "    </tr>\n",
       "  </tbody>\n",
       "</table>\n",
       "</div>"
      ],
      "text/plain": [
       "Gender   Female  Male\n",
       "Product              \n",
       "TM195        40    40\n",
       "TM498        29    31\n",
       "TM798         7    33"
      ]
     },
     "execution_count": 14,
     "metadata": {},
     "output_type": "execute_result"
    }
   ],
   "source": [
    "pd.crosstab(mydata['Product'],mydata['Gender'])"
   ]
  },
  {
   "cell_type": "code",
   "execution_count": 15,
   "id": "c2392929",
   "metadata": {},
   "outputs": [
    {
     "data": {
      "application/vnd.microsoft.datawrangler.viewer.v0+json": {
       "columns": [
        {
         "name": "Product",
         "rawType": "object",
         "type": "string"
        },
        {
         "name": "Partnered",
         "rawType": "int64",
         "type": "integer"
        },
        {
         "name": "Single",
         "rawType": "int64",
         "type": "integer"
        }
       ],
       "conversionMethod": "pd.DataFrame",
       "ref": "da56d630-5f43-4441-acb2-8f9bbc75ea39",
       "rows": [
        [
         "TM195",
         "48",
         "32"
        ],
        [
         "TM498",
         "36",
         "24"
        ],
        [
         "TM798",
         "23",
         "17"
        ]
       ],
       "shape": {
        "columns": 2,
        "rows": 3
       }
      },
      "text/html": [
       "<div>\n",
       "<style scoped>\n",
       "    .dataframe tbody tr th:only-of-type {\n",
       "        vertical-align: middle;\n",
       "    }\n",
       "\n",
       "    .dataframe tbody tr th {\n",
       "        vertical-align: top;\n",
       "    }\n",
       "\n",
       "    .dataframe thead th {\n",
       "        text-align: right;\n",
       "    }\n",
       "</style>\n",
       "<table border=\"1\" class=\"dataframe\">\n",
       "  <thead>\n",
       "    <tr style=\"text-align: right;\">\n",
       "      <th>MaritalStatus</th>\n",
       "      <th>Partnered</th>\n",
       "      <th>Single</th>\n",
       "    </tr>\n",
       "    <tr>\n",
       "      <th>Product</th>\n",
       "      <th></th>\n",
       "      <th></th>\n",
       "    </tr>\n",
       "  </thead>\n",
       "  <tbody>\n",
       "    <tr>\n",
       "      <th>TM195</th>\n",
       "      <td>48</td>\n",
       "      <td>32</td>\n",
       "    </tr>\n",
       "    <tr>\n",
       "      <th>TM498</th>\n",
       "      <td>36</td>\n",
       "      <td>24</td>\n",
       "    </tr>\n",
       "    <tr>\n",
       "      <th>TM798</th>\n",
       "      <td>23</td>\n",
       "      <td>17</td>\n",
       "    </tr>\n",
       "  </tbody>\n",
       "</table>\n",
       "</div>"
      ],
      "text/plain": [
       "MaritalStatus  Partnered  Single\n",
       "Product                         \n",
       "TM195                 48      32\n",
       "TM498                 36      24\n",
       "TM798                 23      17"
      ]
     },
     "execution_count": 15,
     "metadata": {},
     "output_type": "execute_result"
    }
   ],
   "source": [
    "pd.crosstab(mydata['Product'],mydata['MaritalStatus'])\n"
   ]
  },
  {
   "cell_type": "code",
   "execution_count": 16,
   "id": "c45a3b4c",
   "metadata": {},
   "outputs": [
    {
     "data": {
      "application/vnd.microsoft.datawrangler.viewer.v0+json": {
       "columns": [
        {
         "name": "Product",
         "rawType": "object",
         "type": "string"
        },
        {
         "name": "('Age', 'Partnered')",
         "rawType": "float64",
         "type": "float"
        },
        {
         "name": "('Age', 'Single')",
         "rawType": "float64",
         "type": "float"
        },
        {
         "name": "('Income', 'Partnered')",
         "rawType": "float64",
         "type": "float"
        },
        {
         "name": "('Income', 'Single')",
         "rawType": "float64",
         "type": "float"
        }
       ],
       "conversionMethod": "pd.DataFrame",
       "ref": "5df0db10-f347-4a19-809e-f9355788e5fb",
       "rows": [
        [
         "TM195",
         "29.666666666666668",
         "26.875",
         "47848.75",
         "44271.9375"
        ],
        [
         "TM498",
         "30.22222222222222",
         "26.916666666666668",
         "49522.666666666664",
         "48150.125"
        ],
        [
         "TM798",
         "29.82608695652174",
         "28.11764705882353",
         "82047.17391304347",
         "66504.58823529411"
        ]
       ],
       "shape": {
        "columns": 4,
        "rows": 3
       }
      },
      "text/html": [
       "<div>\n",
       "<style scoped>\n",
       "    .dataframe tbody tr th:only-of-type {\n",
       "        vertical-align: middle;\n",
       "    }\n",
       "\n",
       "    .dataframe tbody tr th {\n",
       "        vertical-align: top;\n",
       "    }\n",
       "\n",
       "    .dataframe thead tr th {\n",
       "        text-align: left;\n",
       "    }\n",
       "\n",
       "    .dataframe thead tr:last-of-type th {\n",
       "        text-align: right;\n",
       "    }\n",
       "</style>\n",
       "<table border=\"1\" class=\"dataframe\">\n",
       "  <thead>\n",
       "    <tr>\n",
       "      <th></th>\n",
       "      <th colspan=\"2\" halign=\"left\">Age</th>\n",
       "      <th colspan=\"2\" halign=\"left\">Income</th>\n",
       "    </tr>\n",
       "    <tr>\n",
       "      <th>MaritalStatus</th>\n",
       "      <th>Partnered</th>\n",
       "      <th>Single</th>\n",
       "      <th>Partnered</th>\n",
       "      <th>Single</th>\n",
       "    </tr>\n",
       "    <tr>\n",
       "      <th>Product</th>\n",
       "      <th></th>\n",
       "      <th></th>\n",
       "      <th></th>\n",
       "      <th></th>\n",
       "    </tr>\n",
       "  </thead>\n",
       "  <tbody>\n",
       "    <tr>\n",
       "      <th>TM195</th>\n",
       "      <td>29.667</td>\n",
       "      <td>26.875</td>\n",
       "      <td>47848.750</td>\n",
       "      <td>44271.938</td>\n",
       "    </tr>\n",
       "    <tr>\n",
       "      <th>TM498</th>\n",
       "      <td>30.222</td>\n",
       "      <td>26.917</td>\n",
       "      <td>49522.667</td>\n",
       "      <td>48150.125</td>\n",
       "    </tr>\n",
       "    <tr>\n",
       "      <th>TM798</th>\n",
       "      <td>29.826</td>\n",
       "      <td>28.118</td>\n",
       "      <td>82047.174</td>\n",
       "      <td>66504.588</td>\n",
       "    </tr>\n",
       "  </tbody>\n",
       "</table>\n",
       "</div>"
      ],
      "text/plain": [
       "                    Age           Income          \n",
       "MaritalStatus Partnered Single Partnered    Single\n",
       "Product                                           \n",
       "TM195            29.667 26.875 47848.750 44271.938\n",
       "TM498            30.222 26.917 49522.667 48150.125\n",
       "TM798            29.826 28.118 82047.174 66504.588"
      ]
     },
     "execution_count": 16,
     "metadata": {},
     "output_type": "execute_result"
    }
   ],
   "source": [
    "pd.pivot_table(mydata, index='Product', values=['Age','Income'],columns=['MaritalStatus'], aggfunc='mean', fill_value=0)\n"
   ]
  },
  {
   "cell_type": "code",
   "execution_count": 17,
   "id": "56f8fa7f",
   "metadata": {},
   "outputs": [
    {
     "data": {
      "text/plain": [
       "<Axes: xlabel='Product'>"
      ]
     },
     "execution_count": 17,
     "metadata": {},
     "output_type": "execute_result"
    },
    {
     "data": {
      "image/png": "[encoded data removed]",
      "text/plain": [
       "<Figure size 1500x500 with 1 Axes>"
      ]
     },
     "metadata": {},
     "output_type": "display_data"
    }
   ],
   "source": [
    "pd.pivot_table(mydata, index='Product', values=['Age','Income'], aggfunc=['mean','median','std'])\n",
    "mydata['Product'].value_counts().plot(kind='bar', figsize=(15, 5), color='blue', alpha=0.7, edgecolor='black')"
   ]
  },
  {
   "cell_type": "code",
   "execution_count": 18,
   "id": "40687524",
   "metadata": {},
   "outputs": [
    {
     "data": {
      "application/vnd.microsoft.datawrangler.viewer.v0+json": {
       "columns": [
        {
         "name": "Product",
         "rawType": "object",
         "type": "string"
        },
        {
         "name": "12",
         "rawType": "int64",
         "type": "integer"
        },
        {
         "name": "13",
         "rawType": "int64",
         "type": "integer"
        },
        {
         "name": "14",
         "rawType": "int64",
         "type": "integer"
        },
        {
         "name": "15",
         "rawType": "int64",
         "type": "integer"
        },
        {
         "name": "16",
         "rawType": "int64",
         "type": "integer"
        },
        {
         "name": "18",
         "rawType": "int64",
         "type": "integer"
        },
        {
         "name": "20",
         "rawType": "int64",
         "type": "integer"
        },
        {
         "name": "21",
         "rawType": "int64",
         "type": "integer"
        }
       ],
       "conversionMethod": "pd.DataFrame",
       "ref": "be1d3e45-3668-450d-bab3-93fc5d2f1c7e",
       "rows": [
        [
         "TM195",
         "2",
         "3",
         "30",
         "4",
         "39",
         "2",
         "0",
         "0"
        ],
        [
         "TM498",
         "1",
         "2",
         "23",
         "1",
         "31",
         "2",
         "0",
         "0"
        ],
        [
         "TM798",
         "0",
         "0",
         "2",
         "0",
         "15",
         "19",
         "1",
         "3"
        ]
       ],
       "shape": {
        "columns": 8,
        "rows": 3
       }
      },
      "text/html": [
       "<div>\n",
       "<style scoped>\n",
       "    .dataframe tbody tr th:only-of-type {\n",
       "        vertical-align: middle;\n",
       "    }\n",
       "\n",
       "    .dataframe tbody tr th {\n",
       "        vertical-align: top;\n",
       "    }\n",
       "\n",
       "    .dataframe thead th {\n",
       "        text-align: right;\n",
       "    }\n",
       "</style>\n",
       "<table border=\"1\" class=\"dataframe\">\n",
       "  <thead>\n",
       "    <tr style=\"text-align: right;\">\n",
       "      <th>Education</th>\n",
       "      <th>12</th>\n",
       "      <th>13</th>\n",
       "      <th>14</th>\n",
       "      <th>15</th>\n",
       "      <th>16</th>\n",
       "      <th>18</th>\n",
       "      <th>20</th>\n",
       "      <th>21</th>\n",
       "    </tr>\n",
       "    <tr>\n",
       "      <th>Product</th>\n",
       "      <th></th>\n",
       "      <th></th>\n",
       "      <th></th>\n",
       "      <th></th>\n",
       "      <th></th>\n",
       "      <th></th>\n",
       "      <th></th>\n",
       "      <th></th>\n",
       "    </tr>\n",
       "  </thead>\n",
       "  <tbody>\n",
       "    <tr>\n",
       "      <th>TM195</th>\n",
       "      <td>2</td>\n",
       "      <td>3</td>\n",
       "      <td>30</td>\n",
       "      <td>4</td>\n",
       "      <td>39</td>\n",
       "      <td>2</td>\n",
       "      <td>0</td>\n",
       "      <td>0</td>\n",
       "    </tr>\n",
       "    <tr>\n",
       "      <th>TM498</th>\n",
       "      <td>1</td>\n",
       "      <td>2</td>\n",
       "      <td>23</td>\n",
       "      <td>1</td>\n",
       "      <td>31</td>\n",
       "      <td>2</td>\n",
       "      <td>0</td>\n",
       "      <td>0</td>\n",
       "    </tr>\n",
       "    <tr>\n",
       "      <th>TM798</th>\n",
       "      <td>0</td>\n",
       "      <td>0</td>\n",
       "      <td>2</td>\n",
       "      <td>0</td>\n",
       "      <td>15</td>\n",
       "      <td>19</td>\n",
       "      <td>1</td>\n",
       "      <td>3</td>\n",
       "    </tr>\n",
       "  </tbody>\n",
       "</table>\n",
       "</div>"
      ],
      "text/plain": [
       "Education  12  13  14  15  16  18  20  21\n",
       "Product                                  \n",
       "TM195       2   3  30   4  39   2   0   0\n",
       "TM498       1   2  23   1  31   2   0   0\n",
       "TM798       0   0   2   0  15  19   1   3"
      ]
     },
     "execution_count": 18,
     "metadata": {},
     "output_type": "execute_result"
    }
   ],
   "source": [
    "pd.crosstab(mydata['Product'],mydata['Education'])\n"
   ]
  },
  {
   "cell_type": "code",
   "execution_count": 19,
   "id": "5d582baa",
   "metadata": {},
   "outputs": [
    {
     "data": {
      "text/plain": [
       "<Axes: xlabel='Product', ylabel='count'>"
      ]
     },
     "execution_count": 19,
     "metadata": {},
     "output_type": "execute_result"
    },
    {
     "data": {
      "image/png": "[encoded data removed]",
      "text/plain": [
       "<Figure size 640x480 with 1 Axes>"
      ]
     },
     "metadata": {},
     "output_type": "display_data"
    }
   ],
   "source": [
    "sns.countplot(x='Product',hue='Gender', data=mydata)"
   ]
  },
  {
   "cell_type": "code",
   "execution_count": 20,
   "id": "ec7d68b3",
   "metadata": {},
   "outputs": [
    {
     "data": {
      "application/vnd.microsoft.datawrangler.viewer.v0+json": {
       "columns": [
        {
         "name": "Product",
         "rawType": "object",
         "type": "string"
        },
        {
         "name": "29562",
         "rawType": "int64",
         "type": "integer"
        },
        {
         "name": "30699",
         "rawType": "int64",
         "type": "integer"
        },
        {
         "name": "31836",
         "rawType": "int64",
         "type": "integer"
        },
        {
         "name": "32973",
         "rawType": "int64",
         "type": "integer"
        },
        {
         "name": "34110",
         "rawType": "int64",
         "type": "integer"
        },
        {
         "name": "35247",
         "rawType": "int64",
         "type": "integer"
        },
        {
         "name": "36384",
         "rawType": "int64",
         "type": "integer"
        },
        {
         "name": "37521",
         "rawType": "int64",
         "type": "integer"
        },
        {
         "name": "38658",
         "rawType": "int64",
         "type": "integer"
        },
        {
         "name": "39795",
         "rawType": "int64",
         "type": "integer"
        },
        {
         "name": "40932",
         "rawType": "int64",
         "type": "integer"
        },
        {
         "name": "42069",
         "rawType": "int64",
         "type": "integer"
        },
        {
         "name": "43206",
         "rawType": "int64",
         "type": "integer"
        },
        {
         "name": "44343",
         "rawType": "int64",
         "type": "integer"
        },
        {
         "name": "45480",
         "rawType": "int64",
         "type": "integer"
        },
        {
         "name": "46617",
         "rawType": "int64",
         "type": "integer"
        },
        {
         "name": "47754",
         "rawType": "int64",
         "type": "integer"
        },
        {
         "name": "48556",
         "rawType": "int64",
         "type": "integer"
        },
        {
         "name": "48658",
         "rawType": "int64",
         "type": "integer"
        },
        {
         "name": "48891",
         "rawType": "int64",
         "type": "integer"
        },
        {
         "name": "49801",
         "rawType": "int64",
         "type": "integer"
        },
        {
         "name": "50028",
         "rawType": "int64",
         "type": "integer"
        },
        {
         "name": "51165",
         "rawType": "int64",
         "type": "integer"
        },
        {
         "name": "52290",
         "rawType": "int64",
         "type": "integer"
        },
        {
         "name": "52291",
         "rawType": "int64",
         "type": "integer"
        },
        {
         "name": "52302",
         "rawType": "int64",
         "type": "integer"
        },
        {
         "name": "53439",
         "rawType": "int64",
         "type": "integer"
        },
        {
         "name": "53536",
         "rawType": "int64",
         "type": "integer"
        },
        {
         "name": "54576",
         "rawType": "int64",
         "type": "integer"
        },
        {
         "name": "54781",
         "rawType": "int64",
         "type": "integer"
        },
        {
         "name": "55713",
         "rawType": "int64",
         "type": "integer"
        },
        {
         "name": "56850",
         "rawType": "int64",
         "type": "integer"
        },
        {
         "name": "57271",
         "rawType": "int64",
         "type": "integer"
        },
        {
         "name": "57987",
         "rawType": "int64",
         "type": "integer"
        },
        {
         "name": "58516",
         "rawType": "int64",
         "type": "integer"
        },
        {
         "name": "59124",
         "rawType": "int64",
         "type": "integer"
        },
        {
         "name": "60261",
         "rawType": "int64",
         "type": "integer"
        },
        {
         "name": "61006",
         "rawType": "int64",
         "type": "integer"
        },
        {
         "name": "61398",
         "rawType": "int64",
         "type": "integer"
        },
        {
         "name": "62251",
         "rawType": "int64",
         "type": "integer"
        },
        {
         "name": "62535",
         "rawType": "int64",
         "type": "integer"
        },
        {
         "name": "64741",
         "rawType": "int64",
         "type": "integer"
        },
        {
         "name": "64809",
         "rawType": "int64",
         "type": "integer"
        },
        {
         "name": "65220",
         "rawType": "int64",
         "type": "integer"
        },
        {
         "name": "67083",
         "rawType": "int64",
         "type": "integer"
        },
        {
         "name": "68220",
         "rawType": "int64",
         "type": "integer"
        },
        {
         "name": "69721",
         "rawType": "int64",
         "type": "integer"
        },
        {
         "name": "70966",
         "rawType": "int64",
         "type": "integer"
        },
        {
         "name": "74701",
         "rawType": "int64",
         "type": "integer"
        },
        {
         "name": "75946",
         "rawType": "int64",
         "type": "integer"
        },
        {
         "name": "77191",
         "rawType": "int64",
         "type": "integer"
        },
        {
         "name": "83416",
         "rawType": "int64",
         "type": "integer"
        },
        {
         "name": "85906",
         "rawType": "int64",
         "type": "integer"
        },
        {
         "name": "88396",
         "rawType": "int64",
         "type": "integer"
        },
        {
         "name": "89641",
         "rawType": "int64",
         "type": "integer"
        },
        {
         "name": "90886",
         "rawType": "int64",
         "type": "integer"
        },
        {
         "name": "92131",
         "rawType": "int64",
         "type": "integer"
        },
        {
         "name": "95508",
         "rawType": "int64",
         "type": "integer"
        },
        {
         "name": "95866",
         "rawType": "int64",
         "type": "integer"
        },
        {
         "name": "99601",
         "rawType": "int64",
         "type": "integer"
        },
        {
         "name": "103336",
         "rawType": "int64",
         "type": "integer"
        },
        {
         "name": "104581",
         "rawType": "int64",
         "type": "integer"
        }
       ],
       "conversionMethod": "pd.DataFrame",
       "ref": "993bc737-6618-4d4e-9918-600db7212915",
       "rows": [
        [
         "TM195",
         "1",
         "1",
         "1",
         "3",
         "2",
         "5",
         "3",
         "2",
         "3",
         "2",
         "4",
         "2",
         "1",
         "4",
         "5",
         "7",
         "0",
         "0",
         "0",
         "2",
         "0",
         "2",
         "3",
         "0",
         "0",
         "6",
         "3",
         "0",
         "7",
         "0",
         "1",
         "2",
         "0",
         "1",
         "0",
         "1",
         "2",
         "0",
         "1",
         "0",
         "0",
         "0",
         "1",
         "0",
         "1",
         "1",
         "0",
         "0",
         "0",
         "0",
         "0",
         "0",
         "0",
         "0",
         "0",
         "0",
         "0",
         "0",
         "0",
         "0",
         "0",
         "0"
        ],
        [
         "TM498",
         "0",
         "0",
         "1",
         "2",
         "3",
         "0",
         "1",
         "0",
         "2",
         "0",
         "2",
         "0",
         "4",
         "0",
         "9",
         "1",
         "2",
         "0",
         "0",
         "3",
         "0",
         "5",
         "4",
         "0",
         "0",
         "3",
         "5",
         "0",
         "1",
         "0",
         "0",
         "0",
         "0",
         "3",
         "0",
         "2",
         "1",
         "0",
         "1",
         "0",
         "1",
         "0",
         "2",
         "1",
         "1",
         "0",
         "0",
         "0",
         "0",
         "0",
         "0",
         "0",
         "0",
         "0",
         "0",
         "0",
         "0",
         "0",
         "0",
         "0",
         "0",
         "0"
        ],
        [
         "TM798",
         "0",
         "0",
         "0",
         "0",
         "0",
         "0",
         "0",
         "0",
         "0",
         "0",
         "0",
         "0",
         "0",
         "0",
         "0",
         "0",
         "0",
         "2",
         "1",
         "0",
         "2",
         "0",
         "0",
         "1",
         "1",
         "0",
         "0",
         "1",
         "0",
         "1",
         "0",
         "0",
         "1",
         "0",
         "1",
         "0",
         "0",
         "2",
         "0",
         "1",
         "0",
         "2",
         "0",
         "0",
         "0",
         "0",
         "1",
         "1",
         "1",
         "1",
         "1",
         "2",
         "1",
         "2",
         "2",
         "3",
         "3",
         "1",
         "1",
         "1",
         "1",
         "2"
        ]
       ],
       "shape": {
        "columns": 62,
        "rows": 3
       }
      },
      "text/html": [
       "<div>\n",
       "<style scoped>\n",
       "    .dataframe tbody tr th:only-of-type {\n",
       "        vertical-align: middle;\n",
       "    }\n",
       "\n",
       "    .dataframe tbody tr th {\n",
       "        vertical-align: top;\n",
       "    }\n",
       "\n",
       "    .dataframe thead th {\n",
       "        text-align: right;\n",
       "    }\n",
       "</style>\n",
       "<table border=\"1\" class=\"dataframe\">\n",
       "  <thead>\n",
       "    <tr style=\"text-align: right;\">\n",
       "      <th>Income</th>\n",
       "      <th>29562</th>\n",
       "      <th>30699</th>\n",
       "      <th>31836</th>\n",
       "      <th>32973</th>\n",
       "      <th>34110</th>\n",
       "      <th>35247</th>\n",
       "      <th>36384</th>\n",
       "      <th>37521</th>\n",
       "      <th>38658</th>\n",
       "      <th>39795</th>\n",
       "      <th>40932</th>\n",
       "      <th>42069</th>\n",
       "      <th>43206</th>\n",
       "      <th>44343</th>\n",
       "      <th>45480</th>\n",
       "      <th>46617</th>\n",
       "      <th>47754</th>\n",
       "      <th>48556</th>\n",
       "      <th>48658</th>\n",
       "      <th>48891</th>\n",
       "      <th>49801</th>\n",
       "      <th>50028</th>\n",
       "      <th>51165</th>\n",
       "      <th>52290</th>\n",
       "      <th>52291</th>\n",
       "      <th>52302</th>\n",
       "      <th>53439</th>\n",
       "      <th>53536</th>\n",
       "      <th>54576</th>\n",
       "      <th>54781</th>\n",
       "      <th>55713</th>\n",
       "      <th>56850</th>\n",
       "      <th>57271</th>\n",
       "      <th>57987</th>\n",
       "      <th>58516</th>\n",
       "      <th>59124</th>\n",
       "      <th>60261</th>\n",
       "      <th>61006</th>\n",
       "      <th>61398</th>\n",
       "      <th>62251</th>\n",
       "      <th>62535</th>\n",
       "      <th>64741</th>\n",
       "      <th>64809</th>\n",
       "      <th>65220</th>\n",
       "      <th>67083</th>\n",
       "      <th>68220</th>\n",
       "      <th>69721</th>\n",
       "      <th>70966</th>\n",
       "      <th>74701</th>\n",
       "      <th>75946</th>\n",
       "      <th>77191</th>\n",
       "      <th>83416</th>\n",
       "      <th>85906</th>\n",
       "      <th>88396</th>\n",
       "      <th>89641</th>\n",
       "      <th>90886</th>\n",
       "      <th>92131</th>\n",
       "      <th>95508</th>\n",
       "      <th>95866</th>\n",
       "      <th>99601</th>\n",
       "      <th>103336</th>\n",
       "      <th>104581</th>\n",
       "    </tr>\n",
       "    <tr>\n",
       "      <th>Product</th>\n",
       "      <th></th>\n",
       "      <th></th>\n",
       "      <th></th>\n",
       "      <th></th>\n",
       "      <th></th>\n",
       "      <th></th>\n",
       "      <th></th>\n",
       "      <th></th>\n",
       "      <th></th>\n",
       "      <th></th>\n",
       "      <th></th>\n",
       "      <th></th>\n",
       "      <th></th>\n",
       "      <th></th>\n",
       "      <th></th>\n",
       "      <th></th>\n",
       "      <th></th>\n",
       "      <th></th>\n",
       "      <th></th>\n",
       "      <th></th>\n",
       "      <th></th>\n",
       "      <th></th>\n",
       "      <th></th>\n",
       "      <th></th>\n",
       "      <th></th>\n",
       "      <th></th>\n",
       "      <th></th>\n",
       "      <th></th>\n",
       "      <th></th>\n",
       "      <th></th>\n",
       "      <th></th>\n",
       "      <th></th>\n",
       "      <th></th>\n",
       "      <th></th>\n",
       "      <th></th>\n",
       "      <th></th>\n",
       "      <th></th>\n",
       "      <th></th>\n",
       "      <th></th>\n",
       "      <th></th>\n",
       "      <th></th>\n",
       "      <th></th>\n",
       "      <th></th>\n",
       "      <th></th>\n",
       "      <th></th>\n",
       "      <th></th>\n",
       "      <th></th>\n",
       "      <th></th>\n",
       "      <th></th>\n",
       "      <th></th>\n",
       "      <th></th>\n",
       "      <th></th>\n",
       "      <th></th>\n",
       "      <th></th>\n",
       "      <th></th>\n",
       "      <th></th>\n",
       "      <th></th>\n",
       "      <th></th>\n",
       "      <th></th>\n",
       "      <th></th>\n",
       "      <th></th>\n",
       "      <th></th>\n",
       "    </tr>\n",
       "  </thead>\n",
       "  <tbody>\n",
       "    <tr>\n",
       "      <th>TM195</th>\n",
       "      <td>1</td>\n",
       "      <td>1</td>\n",
       "      <td>1</td>\n",
       "      <td>3</td>\n",
       "      <td>2</td>\n",
       "      <td>5</td>\n",
       "      <td>3</td>\n",
       "      <td>2</td>\n",
       "      <td>3</td>\n",
       "      <td>2</td>\n",
       "      <td>4</td>\n",
       "      <td>2</td>\n",
       "      <td>1</td>\n",
       "      <td>4</td>\n",
       "      <td>5</td>\n",
       "      <td>7</td>\n",
       "      <td>0</td>\n",
       "      <td>0</td>\n",
       "      <td>0</td>\n",
       "      <td>2</td>\n",
       "      <td>0</td>\n",
       "      <td>2</td>\n",
       "      <td>3</td>\n",
       "      <td>0</td>\n",
       "      <td>0</td>\n",
       "      <td>6</td>\n",
       "      <td>3</td>\n",
       "      <td>0</td>\n",
       "      <td>7</td>\n",
       "      <td>0</td>\n",
       "      <td>1</td>\n",
       "      <td>2</td>\n",
       "      <td>0</td>\n",
       "      <td>1</td>\n",
       "      <td>0</td>\n",
       "      <td>1</td>\n",
       "      <td>2</td>\n",
       "      <td>0</td>\n",
       "      <td>1</td>\n",
       "      <td>0</td>\n",
       "      <td>0</td>\n",
       "      <td>0</td>\n",
       "      <td>1</td>\n",
       "      <td>0</td>\n",
       "      <td>1</td>\n",
       "      <td>1</td>\n",
       "      <td>0</td>\n",
       "      <td>0</td>\n",
       "      <td>0</td>\n",
       "      <td>0</td>\n",
       "      <td>0</td>\n",
       "      <td>0</td>\n",
       "      <td>0</td>\n",
       "      <td>0</td>\n",
       "      <td>0</td>\n",
       "      <td>0</td>\n",
       "      <td>0</td>\n",
       "      <td>0</td>\n",
       "      <td>0</td>\n",
       "      <td>0</td>\n",
       "      <td>0</td>\n",
       "      <td>0</td>\n",
       "    </tr>\n",
       "    <tr>\n",
       "      <th>TM498</th>\n",
       "      <td>0</td>\n",
       "      <td>0</td>\n",
       "      <td>1</td>\n",
       "      <td>2</td>\n",
       "      <td>3</td>\n",
       "      <td>0</td>\n",
       "      <td>1</td>\n",
       "      <td>0</td>\n",
       "      <td>2</td>\n",
       "      <td>0</td>\n",
       "      <td>2</td>\n",
       "      <td>0</td>\n",
       "      <td>4</td>\n",
       "      <td>0</td>\n",
       "      <td>9</td>\n",
       "      <td>1</td>\n",
       "      <td>2</td>\n",
       "      <td>0</td>\n",
       "      <td>0</td>\n",
       "      <td>3</td>\n",
       "      <td>0</td>\n",
       "      <td>5</td>\n",
       "      <td>4</td>\n",
       "      <td>0</td>\n",
       "      <td>0</td>\n",
       "      <td>3</td>\n",
       "      <td>5</td>\n",
       "      <td>0</td>\n",
       "      <td>1</td>\n",
       "      <td>0</td>\n",
       "      <td>0</td>\n",
       "      <td>0</td>\n",
       "      <td>0</td>\n",
       "      <td>3</td>\n",
       "      <td>0</td>\n",
       "      <td>2</td>\n",
       "      <td>1</td>\n",
       "      <td>0</td>\n",
       "      <td>1</td>\n",
       "      <td>0</td>\n",
       "      <td>1</td>\n",
       "      <td>0</td>\n",
       "      <td>2</td>\n",
       "      <td>1</td>\n",
       "      <td>1</td>\n",
       "      <td>0</td>\n",
       "      <td>0</td>\n",
       "      <td>0</td>\n",
       "      <td>0</td>\n",
       "      <td>0</td>\n",
       "      <td>0</td>\n",
       "      <td>0</td>\n",
       "      <td>0</td>\n",
       "      <td>0</td>\n",
       "      <td>0</td>\n",
       "      <td>0</td>\n",
       "      <td>0</td>\n",
       "      <td>0</td>\n",
       "      <td>0</td>\n",
       "      <td>0</td>\n",
       "      <td>0</td>\n",
       "      <td>0</td>\n",
       "    </tr>\n",
       "    <tr>\n",
       "      <th>TM798</th>\n",
       "      <td>0</td>\n",
       "      <td>0</td>\n",
       "      <td>0</td>\n",
       "      <td>0</td>\n",
       "      <td>0</td>\n",
       "      <td>0</td>\n",
       "      <td>0</td>\n",
       "      <td>0</td>\n",
       "      <td>0</td>\n",
       "      <td>0</td>\n",
       "      <td>0</td>\n",
       "      <td>0</td>\n",
       "      <td>0</td>\n",
       "      <td>0</td>\n",
       "      <td>0</td>\n",
       "      <td>0</td>\n",
       "      <td>0</td>\n",
       "      <td>2</td>\n",
       "      <td>1</td>\n",
       "      <td>0</td>\n",
       "      <td>2</td>\n",
       "      <td>0</td>\n",
       "      <td>0</td>\n",
       "      <td>1</td>\n",
       "      <td>1</td>\n",
       "      <td>0</td>\n",
       "      <td>0</td>\n",
       "      <td>1</td>\n",
       "      <td>0</td>\n",
       "      <td>1</td>\n",
       "      <td>0</td>\n",
       "      <td>0</td>\n",
       "      <td>1</td>\n",
       "      <td>0</td>\n",
       "      <td>1</td>\n",
       "      <td>0</td>\n",
       "      <td>0</td>\n",
       "      <td>2</td>\n",
       "      <td>0</td>\n",
       "      <td>1</td>\n",
       "      <td>0</td>\n",
       "      <td>2</td>\n",
       "      <td>0</td>\n",
       "      <td>0</td>\n",
       "      <td>0</td>\n",
       "      <td>0</td>\n",
       "      <td>1</td>\n",
       "      <td>1</td>\n",
       "      <td>1</td>\n",
       "      <td>1</td>\n",
       "      <td>1</td>\n",
       "      <td>2</td>\n",
       "      <td>1</td>\n",
       "      <td>2</td>\n",
       "      <td>2</td>\n",
       "      <td>3</td>\n",
       "      <td>3</td>\n",
       "      <td>1</td>\n",
       "      <td>1</td>\n",
       "      <td>1</td>\n",
       "      <td>1</td>\n",
       "      <td>2</td>\n",
       "    </tr>\n",
       "  </tbody>\n",
       "</table>\n",
       "</div>"
      ],
      "text/plain": [
       "Income   29562   30699   31836   32973   34110   35247   36384   37521   \\\n",
       "Product                                                                   \n",
       "TM195         1       1       1       3       2       5       3       2   \n",
       "TM498         0       0       1       2       3       0       1       0   \n",
       "TM798         0       0       0       0       0       0       0       0   \n",
       "\n",
       "Income   38658   39795   40932   42069   43206   44343   45480   46617   \\\n",
       "Product                                                                   \n",
       "TM195         3       2       4       2       1       4       5       7   \n",
       "TM498         2       0       2       0       4       0       9       1   \n",
       "TM798         0       0       0       0       0       0       0       0   \n",
       "\n",
       "Income   47754   48556   48658   48891   49801   50028   51165   52290   \\\n",
       "Product                                                                   \n",
       "TM195         0       0       0       2       0       2       3       0   \n",
       "TM498         2       0       0       3       0       5       4       0   \n",
       "TM798         0       2       1       0       2       0       0       1   \n",
       "\n",
       "Income   52291   52302   53439   53536   54576   54781   55713   56850   \\\n",
       "Product                                                                   \n",
       "TM195         0       6       3       0       7       0       1       2   \n",
       "TM498         0       3       5       0       1       0       0       0   \n",
       "TM798         1       0       0       1       0       1       0       0   \n",
       "\n",
       "Income   57271   57987   58516   59124   60261   61006   61398   62251   \\\n",
       "Product                                                                   \n",
       "TM195         0       1       0       1       2       0       1       0   \n",
       "TM498         0       3       0       2       1       0       1       0   \n",
       "TM798         1       0       1       0       0       2       0       1   \n",
       "\n",
       "Income   62535   64741   64809   65220   67083   68220   69721   70966   \\\n",
       "Product                                                                   \n",
       "TM195         0       0       1       0       1       1       0       0   \n",
       "TM498         1       0       2       1       1       0       0       0   \n",
       "TM798         0       2       0       0       0       0       1       1   \n",
       "\n",
       "Income   74701   75946   77191   83416   85906   88396   89641   90886   \\\n",
       "Product                                                                   \n",
       "TM195         0       0       0       0       0       0       0       0   \n",
       "TM498         0       0       0       0       0       0       0       0   \n",
       "TM798         1       1       1       2       1       2       2       3   \n",
       "\n",
       "Income   92131   95508   95866   99601   103336  104581  \n",
       "Product                                                  \n",
       "TM195         0       0       0       0       0       0  \n",
       "TM498         0       0       0       0       0       0  \n",
       "TM798         3       1       1       1       1       2  "
      ]
     },
     "execution_count": 20,
     "metadata": {},
     "output_type": "execute_result"
    }
   ],
   "source": [
    "pd.crosstab(mydata['Product'],mydata['Income'])"
   ]
  },
  {
   "cell_type": "code",
   "execution_count": 21,
   "id": "ba604cf7",
   "metadata": {},
   "outputs": [
    {
     "data": {
      "image/png": "[encoded data removed]",
      "text/plain": [
       "<Figure size 1500x1500 with 42 Axes>"
      ]
     },
     "metadata": {},
     "output_type": "display_data"
    }
   ],
   "source": [
    "import seaborn as sns\n",
    "car_df_attr = mydata.iloc[:, 1:16]\n",
    "# sns.pairplot(car_df_attr,diag_kind='kde')\n",
    "sns.pairplot(mydata,diag_kind='kde')\n",
    "plt.suptitle('Pairplot of Numerical Features by Product', y=1.02, fontsize=16)\n",
    "plt.show()"
   ]
  },
  {
   "cell_type": "code",
   "execution_count": 22,
   "id": "7a75af43",
   "metadata": {},
   "outputs": [
    {
     "data": {
      "text/plain": [
       "np.float64(6.943498135399795)"
      ]
     },
     "execution_count": 22,
     "metadata": {},
     "output_type": "execute_result"
    }
   ],
   "source": [
    "mydata['Age'].std()"
   ]
  },
  {
   "cell_type": "code",
   "execution_count": 23,
   "id": "793cb38c",
   "metadata": {},
   "outputs": [
    {
     "data": {
      "text/plain": [
       "np.float64(26.0)"
      ]
     },
     "execution_count": 23,
     "metadata": {},
     "output_type": "execute_result"
    }
   ],
   "source": [
    "mydata['Age'].median()\n"
   ]
  },
  {
   "cell_type": "code",
   "execution_count": 24,
   "id": "3bb7d1c7",
   "metadata": {},
   "outputs": [
    {
     "data": {
      "text/plain": [
       "np.float64(28.788888888888888)"
      ]
     },
     "execution_count": 24,
     "metadata": {},
     "output_type": "execute_result"
    }
   ],
   "source": [
    "mydata['Age'].mean()\n"
   ]
  },
  {
   "cell_type": "code",
   "execution_count": 25,
   "id": "8185d3a8",
   "metadata": {},
   "outputs": [
    {
     "data": {
      "text/plain": [
       "0    25\n",
       "Name: Age, dtype: int64"
      ]
     },
     "execution_count": 25,
     "metadata": {},
     "output_type": "execute_result"
    }
   ],
   "source": [
    "mydata['Age'].mode()  # Returns the mode of the 'Age' column\n"
   ]
  },
  {
   "cell_type": "code",
   "execution_count": 26,
   "id": "82950dd0",
   "metadata": {},
   "outputs": [
    {
     "data": {
      "text/plain": [
       "np.float64(24.0)"
      ]
     },
     "execution_count": 26,
     "metadata": {},
     "output_type": "execute_result"
    }
   ],
   "source": [
    "mydata['Age'].quantile(0.25)  # 25th percentile\n"
   ]
  },
  {
   "cell_type": "code",
   "execution_count": 27,
   "id": "b6248565",
   "metadata": {},
   "outputs": [
    {
     "data": {
      "text/plain": [
       "np.float64(33.0)"
      ]
     },
     "execution_count": 27,
     "metadata": {},
     "output_type": "execute_result"
    }
   ],
   "source": [
    "mydata['Age'].quantile(0.75)  # 75th percentile"
   ]
  },
  {
   "cell_type": "code",
   "execution_count": 28,
   "id": "f92181a6",
   "metadata": {},
   "outputs": [
    {
     "data": {
      "text/plain": [
       "<seaborn.axisgrid.FacetGrid at 0x1f94e98f0e0>"
      ]
     },
     "execution_count": 28,
     "metadata": {},
     "output_type": "execute_result"
    },
    {
     "data": {
      "image/png": "[encoded data removed]",
      "text/plain": [
       "<Figure size 500x500 with 1 Axes>"
      ]
     },
     "metadata": {},
     "output_type": "display_data"
    }
   ],
   "source": [
    "sns.displot(mydata['Age'])"
   ]
  },
  {
   "cell_type": "code",
   "execution_count": 29,
   "id": "0793559d",
   "metadata": {},
   "outputs": [
    {
     "data": {
      "text/plain": [
       "array([<Axes: title={'center': 'Female'}>,\n",
       "       <Axes: title={'center': 'Male'}>], dtype=object)"
      ]
     },
     "execution_count": 29,
     "metadata": {},
     "output_type": "execute_result"
    },
    {
     "data": {
      "image/png": "[encoded data removed]",
      "text/plain": [
       "<Figure size 640x480 with 2 Axes>"
      ]
     },
     "metadata": {},
     "output_type": "display_data"
    }
   ],
   "source": [
    "mydata.hist(by='Gender',column='Age')"
   ]
  },
  {
   "cell_type": "code",
   "execution_count": 30,
   "id": "4bd2ea9c",
   "metadata": {},
   "outputs": [],
   "source": [
    "\n",
    "numerical_df = mydata.select_dtypes(include=np.number)"
   ]
  },
  {
   "cell_type": "code",
   "execution_count": 31,
   "id": "9e4ea601",
   "metadata": {},
   "outputs": [
    {
     "name": "stdout",
     "output_type": "stream",
     "text": [
      "Numerical DataFrame info:\n",
      "<class 'pandas.core.frame.DataFrame'>\n",
      "RangeIndex: 180 entries, 0 to 179\n",
      "Data columns (total 6 columns):\n",
      " #   Column     Non-Null Count  Dtype\n",
      "---  ------     --------------  -----\n",
      " 0   Age        180 non-null    int64\n",
      " 1   Education  180 non-null    int64\n",
      " 2   Usage      180 non-null    int64\n",
      " 3   Fitness    180 non-null    int64\n",
      " 4   Income     180 non-null    int64\n",
      " 5   Miles      180 non-null    int64\n",
      "dtypes: int64(6)\n",
      "memory usage: 8.6 KB\n"
     ]
    }
   ],
   "source": [
    "print(\"Numerical DataFrame info:\")\n",
    "numerical_df.info()"
   ]
  },
  {
   "cell_type": "code",
   "execution_count": 32,
   "id": "0a50547a",
   "metadata": {},
   "outputs": [
    {
     "name": "stdout",
     "output_type": "stream",
     "text": [
      "Correlation Matrix (Numerical Only):\n",
      "            Age  Education  Usage  Fitness  Income  Miles\n",
      "Age       1.000      0.280  0.015    0.061   0.513  0.037\n",
      "Education 0.280      1.000  0.395    0.411   0.626  0.307\n",
      "Usage     0.015      0.395  1.000    0.669   0.520  0.759\n",
      "Fitness   0.061      0.411  0.669    1.000   0.535  0.786\n",
      "Income    0.513      0.626  0.520    0.535   1.000  0.543\n",
      "Miles     0.037      0.307  0.759    0.786   0.543  1.000\n"
     ]
    }
   ],
   "source": [
    "corr_matrix = numerical_df.corr()\n",
    "\n",
    "print(\"Correlation Matrix (Numerical Only):\")\n",
    "print(corr_matrix)"
   ]
  },
  {
   "cell_type": "code",
   "execution_count": 33,
   "id": "67920d32",
   "metadata": {},
   "outputs": [
    {
     "data": {
      "text/plain": [
       "Text(0.5, 1.0, 'Correlation Matrix (Numerical Only)')"
      ]
     },
     "execution_count": 33,
     "metadata": {},
     "output_type": "execute_result"
    },
    {
     "data": {
      "image/png": "[encoded data removed]",
      "text/plain": [
       "<Figure size 640x480 with 2 Axes>"
      ]
     },
     "metadata": {},
     "output_type": "display_data"
    }
   ],
   "source": [
    "sns.heatmap(corr_matrix, annot=True, cmap='coolwarm', fmt=\".2f\", linewidths=0.5)\n",
    "plt.title('Correlation Matrix (Numerical Only)')"
   ]
  },
  {
   "cell_type": "markdown",
   "id": "900b7cba",
   "metadata": {},
   "source": [
    "? CORRELATION Matrix.\n",
    "A correlation matrix is like a table that shows the correlation coefficient between each pair of variables in your dataset. The correlation coefficient is a number between -1 and +1 that tells us:\n",
    "Strength of the Relationship: How closely two variables move together.\n",
    "Closer to +1 or -1: Strong relationship.\n",
    "Closer to 0: Weak or no relationship.\n",
    "Direction of the Relationship:\n",
    "Positive Correlation (closer to +1): As one variable increases, the other tends to increase as well.\n",
    "Negative Correlation (closer to -1): As one variable increases, the other tends to decrease.\n",
    "Near Zero Correlation (closer to 0): Variables are not really related to each other in a linear way.\n",
    "Interpreting Your Matrix:\n",
    "Let's go through each correlation value in your matrix and translate what it means in plain language:\n",
    "Diagonal (All 1.00): This is always the case. A variable is perfectly correlated with itself (Age with Age, Education with Education, etc.). This is not interesting for interpretation.\n",
    "Off-Diagonal Values (the interesting parts):\n",
    "Age and Education (0.280): Weak Positive Correlation. There's a slight tendency for older individuals to have slightly higher levels of education in this dataset. However, it's not a very strong relationship.\n",
    "Age and Usage (0.015): Very Weak, Near Zero Correlation. Age and how often someone uses the treadmill are practically unrelated. Older or younger people are equally likely to use it (or not, based on this data).\n",
    "Age and Fitness (0.061): Very Weak, Near Zero Correlation. Age and fitness level have a negligible relationship in this dataset. Fitness is likely determined by other factors more than just age.\n",
    "Age and Income (0.513): Moderate Positive Correlation. There's a noticeable tendency for income to increase with age in this dataset. This is a more meaningful relationship. (Keep in mind correlation doesn't mean causation - age doesn't cause income directly, but they often trend together due to career progression, etc.).\n",
    "Age and Miles (0.037): Very Weak, Near Zero Correlation. Age and the number of miles someone runs on the treadmill are practically unrelated. Age doesn't strongly predict how many miles someone runs.\n",
    "Education and Usage (0.395): Weak to Moderate Positive Correlation. People with higher education levels tend to use the treadmill slightly more often. This relationship is a bit stronger than the age/education one.\n",
    "Education and Fitness (0.411): Weak to Moderate Positive Correlation. Individuals with higher education levels tend to have slightly higher fitness levels. This could be due to various factors (awareness of health benefits, access to resources, etc.).\n",
    "Education and Income (0.626): Moderate to Strong Positive Correlation. There's a significant positive relationship between education and income. Higher education is associated with higher income in this dataset. This is a fairly strong and expected correlation.\n",
    "Education and Miles (0.307): Weak Positive Correlation. People with higher education tend to run slightly more miles on the treadmill, but the relationship is not very strong.\n",
    "Usage and Fitness (0.669): Moderate to Strong Positive Correlation. There's a strong positive relationship between how often someone uses the treadmill and their fitness level. This is intuitive - more usage likely contributes to better fitness.\n",
    "Usage and Income (0.520): Moderate Positive Correlation. People who use the treadmill more frequently tend to have slightly higher incomes. This could be indirectly related (e.g., people with higher incomes might have more time or resources for fitness).\n",
    "Usage and Miles (0.759): Strong Positive Correlation. This is a very strong and expected correlation. The more someone uses the treadmill (usage frequency), the more miles they are likely to accumulate.\n",
    "Fitness and Income (0.535): Moderate Positive Correlation. Individuals with higher fitness levels tend to have slightly higher incomes. Again, this could be indirectly related through lifestyle factors, health, etc.\n",
    "Fitness and Miles (0.786): Strong Positive Correlation. This is another very strong and intuitive correlation. People with higher fitness levels tend to run more miles on the treadmill.\n",
    "Income and Miles (0.543): Moderate Positive Correlation. People with higher incomes tend to run slightly more miles on the treadmill. This might be related to having more time, better equipment, or simply a lifestyle that includes more fitness activities."
   ]
  },
  {
   "cell_type": "code",
   "execution_count": 34,
   "id": "e1cb723a",
   "metadata": {},
   "outputs": [],
   "source": [
    "#SIMPLE LINEAR REGRESSION\n",
    "from sklearn import linear_model\n",
    "from sklearn.linear_model import LinearRegression"
   ]
  },
  {
   "cell_type": "code",
   "execution_count": 35,
   "id": "74b55ab2",
   "metadata": {},
   "outputs": [
    {
     "data": {
      "text/html": [
       "<style>#sk-container-id-1 {\n",
       "  /* Definition of color scheme common for light and dark mode */\n",
       "  --sklearn-color-text: #000;\n",
       "  --sklearn-color-text-muted: #666;\n",
       "  --sklearn-color-line: gray;\n",
       "  /* Definition of color scheme for unfitted estimators */\n",
       "  --sklearn-color-unfitted-level-0: #fff5e6;\n",
       "  --sklearn-color-unfitted-level-1: #f6e4d2;\n",
       "  --sklearn-color-unfitted-level-2: #ffe0b3;\n",
       "  --sklearn-color-unfitted-level-3: chocolate;\n",
       "  /* Definition of color scheme for fitted estimators */\n",
       "  --sklearn-color-fitted-level-0: #f0f8ff;\n",
       "  --sklearn-color-fitted-level-1: #d4ebff;\n",
       "  --sklearn-color-fitted-level-2: #b3dbfd;\n",
       "  --sklearn-color-fitted-level-3: cornflowerblue;\n",
       "\n",
       "  /* Specific color for light theme */\n",
       "  --sklearn-color-text-on-default-background: var(--sg-text-color, var(--theme-code-foreground, var(--jp-content-font-color1, black)));\n",
       "  --sklearn-color-background: var(--sg-background-color, var(--theme-background, var(--jp-layout-color0, white)));\n",
       "  --sklearn-color-border-box: var(--sg-text-color, var(--theme-code-foreground, var(--jp-content-font-color1, black)));\n",
       "  --sklearn-color-icon: #696969;\n",
       "\n",
       "  @media (prefers-color-scheme: dark) {\n",
       "    /* Redefinition of color scheme for dark theme */\n",
       "    --sklearn-color-text-on-default-background: var(--sg-text-color, var(--theme-code-foreground, var(--jp-content-font-color1, white)));\n",
       "    --sklearn-color-background: var(--sg-background-color, var(--theme-background, var(--jp-layout-color0, #111)));\n",
       "    --sklearn-color-border-box: var(--sg-text-color, var(--theme-code-foreground, var(--jp-content-font-color1, white)));\n",
       "    --sklearn-color-icon: #878787;\n",
       "  }\n",
       "}\n",
       "\n",
       "#sk-container-id-1 {\n",
       "  color: var(--sklearn-color-text);\n",
       "}\n",
       "\n",
       "#sk-container-id-1 pre {\n",
       "  padding: 0;\n",
       "}\n",
       "\n",
       "#sk-container-id-1 input.sk-hidden--visually {\n",
       "  border: 0;\n",
       "  clip: rect(1px 1px 1px 1px);\n",
       "  clip: rect(1px, 1px, 1px, 1px);\n",
       "  height: 1px;\n",
       "  margin: -1px;\n",
       "  overflow: hidden;\n",
       "  padding: 0;\n",
       "  position: absolute;\n",
       "  width: 1px;\n",
       "}\n",
       "\n",
       "#sk-container-id-1 div.sk-dashed-wrapped {\n",
       "  border: 1px dashed var(--sklearn-color-line);\n",
       "  margin: 0 0.4em 0.5em 0.4em;\n",
       "  box-sizing: border-box;\n",
       "  padding-bottom: 0.4em;\n",
       "  background-color: var(--sklearn-color-background);\n",
       "}\n",
       "\n",
       "#sk-container-id-1 div.sk-container {\n",
       "  /* jupyter's `normalize.less` sets `[hidden] { display: none; }`\n",
       "     but bootstrap.min.css set `[hidden] { display: none !important; }`\n",
       "     so we also need the `!important` here to be able to override the\n",
       "     default hidden behavior on the sphinx rendered scikit-learn.org.\n",
       "     See: https://github.com/scikit-learn/scikit-learn/issues/21755 */\n",
       "  display: inline-block !important;\n",
       "  position: relative;\n",
       "}\n",
       "\n",
       "#sk-container-id-1 div.sk-text-repr-fallback {\n",
       "  display: none;\n",
       "}\n",
       "\n",
       "div.sk-parallel-item,\n",
       "div.sk-serial,\n",
       "div.sk-item {\n",
       "  /* draw centered vertical line to link estimators */\n",
       "  background-image: linear-gradient(var(--sklearn-color-text-on-default-background), var(--sklearn-color-text-on-default-background));\n",
       "  background-size: 2px 100%;\n",
       "  background-repeat: no-repeat;\n",
       "  background-position: center center;\n",
       "}\n",
       "\n",
       "/* Parallel-specific style estimator block */\n",
       "\n",
       "#sk-container-id-1 div.sk-parallel-item::after {\n",
       "  content: \"\";\n",
       "  width: 100%;\n",
       "  border-bottom: 2px solid var(--sklearn-color-text-on-default-background);\n",
       "  flex-grow: 1;\n",
       "}\n",
       "\n",
       "#sk-container-id-1 div.sk-parallel {\n",
       "  display: flex;\n",
       "  align-items: stretch;\n",
       "  justify-content: center;\n",
       "  background-color: var(--sklearn-color-background);\n",
       "  position: relative;\n",
       "}\n",
       "\n",
       "#sk-container-id-1 div.sk-parallel-item {\n",
       "  display: flex;\n",
       "  flex-direction: column;\n",
       "}\n",
       "\n",
       "#sk-container-id-1 div.sk-parallel-item:first-child::after {\n",
       "  align-self: flex-end;\n",
       "  width: 50%;\n",
       "}\n",
       "\n",
       "#sk-container-id-1 div.sk-parallel-item:last-child::after {\n",
       "  align-self: flex-start;\n",
       "  width: 50%;\n",
       "}\n",
       "\n",
       "#sk-container-id-1 div.sk-parallel-item:only-child::after {\n",
       "  width: 0;\n",
       "}\n",
       "\n",
       "/* Serial-specific style estimator block */\n",
       "\n",
       "#sk-container-id-1 div.sk-serial {\n",
       "  display: flex;\n",
       "  flex-direction: column;\n",
       "  align-items: center;\n",
       "  background-color: var(--sklearn-color-background);\n",
       "  padding-right: 1em;\n",
       "  padding-left: 1em;\n",
       "}\n",
       "\n",
       "\n",
       "/* Toggleable style: style used for estimator/Pipeline/ColumnTransformer box that is\n",
       "clickable and can be expanded/collapsed.\n",
       "- Pipeline and ColumnTransformer use this feature and define the default style\n",
       "- Estimators will overwrite some part of the style using the `sk-estimator` class\n",
       "*/\n",
       "\n",
       "/* Pipeline and ColumnTransformer style (default) */\n",
       "\n",
       "#sk-container-id-1 div.sk-toggleable {\n",
       "  /* Default theme specific background. It is overwritten whether we have a\n",
       "  specific estimator or a Pipeline/ColumnTransformer */\n",
       "  background-color: var(--sklearn-color-background);\n",
       "}\n",
       "\n",
       "/* Toggleable label */\n",
       "#sk-container-id-1 label.sk-toggleable__label {\n",
       "  cursor: pointer;\n",
       "  display: flex;\n",
       "  width: 100%;\n",
       "  margin-bottom: 0;\n",
       "  padding: 0.5em;\n",
       "  box-sizing: border-box;\n",
       "  text-align: center;\n",
       "  align-items: start;\n",
       "  justify-content: space-between;\n",
       "  gap: 0.5em;\n",
       "}\n",
       "\n",
       "#sk-container-id-1 label.sk-toggleable__label .caption {\n",
       "  font-size: 0.6rem;\n",
       "  font-weight: lighter;\n",
       "  color: var(--sklearn-color-text-muted);\n",
       "}\n",
       "\n",
       "#sk-container-id-1 label.sk-toggleable__label-arrow:before {\n",
       "  /* Arrow on the left of the label */\n",
       "  content: \"▸\";\n",
       "  float: left;\n",
       "  margin-right: 0.25em;\n",
       "  color: var(--sklearn-color-icon);\n",
       "}\n",
       "\n",
       "#sk-container-id-1 label.sk-toggleable__label-arrow:hover:before {\n",
       "  color: var(--sklearn-color-text);\n",
       "}\n",
       "\n",
       "/* Toggleable content - dropdown */\n",
       "\n",
       "#sk-container-id-1 div.sk-toggleable__content {\n",
       "  max-height: 0;\n",
       "  max-width: 0;\n",
       "  overflow: hidden;\n",
       "  text-align: left;\n",
       "  /* unfitted */\n",
       "  background-color: var(--sklearn-color-unfitted-level-0);\n",
       "}\n",
       "\n",
       "#sk-container-id-1 div.sk-toggleable__content.fitted {\n",
       "  /* fitted */\n",
       "  background-color: var(--sklearn-color-fitted-level-0);\n",
       "}\n",
       "\n",
       "#sk-container-id-1 div.sk-toggleable__content pre {\n",
       "  margin: 0.2em;\n",
       "  border-radius: 0.25em;\n",
       "  color: var(--sklearn-color-text);\n",
       "  /* unfitted */\n",
       "  background-color: var(--sklearn-color-unfitted-level-0);\n",
       "}\n",
       "\n",
       "#sk-container-id-1 div.sk-toggleable__content.fitted pre {\n",
       "  /* unfitted */\n",
       "  background-color: var(--sklearn-color-fitted-level-0);\n",
       "}\n",
       "\n",
       "#sk-container-id-1 input.sk-toggleable__control:checked~div.sk-toggleable__content {\n",
       "  /* Expand drop-down */\n",
       "  max-height: 200px;\n",
       "  max-width: 100%;\n",
       "  overflow: auto;\n",
       "}\n",
       "\n",
       "#sk-container-id-1 input.sk-toggleable__control:checked~label.sk-toggleable__label-arrow:before {\n",
       "  content: \"▾\";\n",
       "}\n",
       "\n",
       "/* Pipeline/ColumnTransformer-specific style */\n",
       "\n",
       "#sk-container-id-1 div.sk-label input.sk-toggleable__control:checked~label.sk-toggleable__label {\n",
       "  color: var(--sklearn-color-text);\n",
       "  background-color: var(--sklearn-color-unfitted-level-2);\n",
       "}\n",
       "\n",
       "#sk-container-id-1 div.sk-label.fitted input.sk-toggleable__control:checked~label.sk-toggleable__label {\n",
       "  background-color: var(--sklearn-color-fitted-level-2);\n",
       "}\n",
       "\n",
       "/* Estimator-specific style */\n",
       "\n",
       "/* Colorize estimator box */\n",
       "#sk-container-id-1 div.sk-estimator input.sk-toggleable__control:checked~label.sk-toggleable__label {\n",
       "  /* unfitted */\n",
       "  background-color: var(--sklearn-color-unfitted-level-2);\n",
       "}\n",
       "\n",
       "#sk-container-id-1 div.sk-estimator.fitted input.sk-toggleable__control:checked~label.sk-toggleable__label {\n",
       "  /* fitted */\n",
       "  background-color: var(--sklearn-color-fitted-level-2);\n",
       "}\n",
       "\n",
       "#sk-container-id-1 div.sk-label label.sk-toggleable__label,\n",
       "#sk-container-id-1 div.sk-label label {\n",
       "  /* The background is the default theme color */\n",
       "  color: var(--sklearn-color-text-on-default-background);\n",
       "}\n",
       "\n",
       "/* On hover, darken the color of the background */\n",
       "#sk-container-id-1 div.sk-label:hover label.sk-toggleable__label {\n",
       "  color: var(--sklearn-color-text);\n",
       "  background-color: var(--sklearn-color-unfitted-level-2);\n",
       "}\n",
       "\n",
       "/* Label box, darken color on hover, fitted */\n",
       "#sk-container-id-1 div.sk-label.fitted:hover label.sk-toggleable__label.fitted {\n",
       "  color: var(--sklearn-color-text);\n",
       "  background-color: var(--sklearn-color-fitted-level-2);\n",
       "}\n",
       "\n",
       "/* Estimator label */\n",
       "\n",
       "#sk-container-id-1 div.sk-label label {\n",
       "  font-family: monospace;\n",
       "  font-weight: bold;\n",
       "  display: inline-block;\n",
       "  line-height: 1.2em;\n",
       "}\n",
       "\n",
       "#sk-container-id-1 div.sk-label-container {\n",
       "  text-align: center;\n",
       "}\n",
       "\n",
       "/* Estimator-specific */\n",
       "#sk-container-id-1 div.sk-estimator {\n",
       "  font-family: monospace;\n",
       "  border: 1px dotted var(--sklearn-color-border-box);\n",
       "  border-radius: 0.25em;\n",
       "  box-sizing: border-box;\n",
       "  margin-bottom: 0.5em;\n",
       "  /* unfitted */\n",
       "  background-color: var(--sklearn-color-unfitted-level-0);\n",
       "}\n",
       "\n",
       "#sk-container-id-1 div.sk-estimator.fitted {\n",
       "  /* fitted */\n",
       "  background-color: var(--sklearn-color-fitted-level-0);\n",
       "}\n",
       "\n",
       "/* on hover */\n",
       "#sk-container-id-1 div.sk-estimator:hover {\n",
       "  /* unfitted */\n",
       "  background-color: var(--sklearn-color-unfitted-level-2);\n",
       "}\n",
       "\n",
       "#sk-container-id-1 div.sk-estimator.fitted:hover {\n",
       "  /* fitted */\n",
       "  background-color: var(--sklearn-color-fitted-level-2);\n",
       "}\n",
       "\n",
       "/* Specification for estimator info (e.g. \"i\" and \"?\") */\n",
       "\n",
       "/* Common style for \"i\" and \"?\" */\n",
       "\n",
       ".sk-estimator-doc-link,\n",
       "a:link.sk-estimator-doc-link,\n",
       "a:visited.sk-estimator-doc-link {\n",
       "  float: right;\n",
       "  font-size: smaller;\n",
       "  line-height: 1em;\n",
       "  font-family: monospace;\n",
       "  background-color: var(--sklearn-color-background);\n",
       "  border-radius: 1em;\n",
       "  height: 1em;\n",
       "  width: 1em;\n",
       "  text-decoration: none !important;\n",
       "  margin-left: 0.5em;\n",
       "  text-align: center;\n",
       "  /* unfitted */\n",
       "  border: var(--sklearn-color-unfitted-level-1) 1pt solid;\n",
       "  color: var(--sklearn-color-unfitted-level-1);\n",
       "}\n",
       "\n",
       ".sk-estimator-doc-link.fitted,\n",
       "a:link.sk-estimator-doc-link.fitted,\n",
       "a:visited.sk-estimator-doc-link.fitted {\n",
       "  /* fitted */\n",
       "  border: var(--sklearn-color-fitted-level-1) 1pt solid;\n",
       "  color: var(--sklearn-color-fitted-level-1);\n",
       "}\n",
       "\n",
       "/* On hover */\n",
       "div.sk-estimator:hover .sk-estimator-doc-link:hover,\n",
       ".sk-estimator-doc-link:hover,\n",
       "div.sk-label-container:hover .sk-estimator-doc-link:hover,\n",
       ".sk-estimator-doc-link:hover {\n",
       "  /* unfitted */\n",
       "  background-color: var(--sklearn-color-unfitted-level-3);\n",
       "  color: var(--sklearn-color-background);\n",
       "  text-decoration: none;\n",
       "}\n",
       "\n",
       "div.sk-estimator.fitted:hover .sk-estimator-doc-link.fitted:hover,\n",
       ".sk-estimator-doc-link.fitted:hover,\n",
       "div.sk-label-container:hover .sk-estimator-doc-link.fitted:hover,\n",
       ".sk-estimator-doc-link.fitted:hover {\n",
       "  /* fitted */\n",
       "  background-color: var(--sklearn-color-fitted-level-3);\n",
       "  color: var(--sklearn-color-background);\n",
       "  text-decoration: none;\n",
       "}\n",
       "\n",
       "/* Span, style for the box shown on hovering the info icon */\n",
       ".sk-estimator-doc-link span {\n",
       "  display: none;\n",
       "  z-index: 9999;\n",
       "  position: relative;\n",
       "  font-weight: normal;\n",
       "  right: .2ex;\n",
       "  padding: .5ex;\n",
       "  margin: .5ex;\n",
       "  width: min-content;\n",
       "  min-width: 20ex;\n",
       "  max-width: 50ex;\n",
       "  color: var(--sklearn-color-text);\n",
       "  box-shadow: 2pt 2pt 4pt #999;\n",
       "  /* unfitted */\n",
       "  background: var(--sklearn-color-unfitted-level-0);\n",
       "  border: .5pt solid var(--sklearn-color-unfitted-level-3);\n",
       "}\n",
       "\n",
       ".sk-estimator-doc-link.fitted span {\n",
       "  /* fitted */\n",
       "  background: var(--sklearn-color-fitted-level-0);\n",
       "  border: var(--sklearn-color-fitted-level-3);\n",
       "}\n",
       "\n",
       ".sk-estimator-doc-link:hover span {\n",
       "  display: block;\n",
       "}\n",
       "\n",
       "/* \"?\"-specific style due to the `<a>` HTML tag */\n",
       "\n",
       "#sk-container-id-1 a.estimator_doc_link {\n",
       "  float: right;\n",
       "  font-size: 1rem;\n",
       "  line-height: 1em;\n",
       "  font-family: monospace;\n",
       "  background-color: var(--sklearn-color-background);\n",
       "  border-radius: 1rem;\n",
       "  height: 1rem;\n",
       "  width: 1rem;\n",
       "  text-decoration: none;\n",
       "  /* unfitted */\n",
       "  color: var(--sklearn-color-unfitted-level-1);\n",
       "  border: var(--sklearn-color-unfitted-level-1) 1pt solid;\n",
       "}\n",
       "\n",
       "#sk-container-id-1 a.estimator_doc_link.fitted {\n",
       "  /* fitted */\n",
       "  border: var(--sklearn-color-fitted-level-1) 1pt solid;\n",
       "  color: var(--sklearn-color-fitted-level-1);\n",
       "}\n",
       "\n",
       "/* On hover */\n",
       "#sk-container-id-1 a.estimator_doc_link:hover {\n",
       "  /* unfitted */\n",
       "  background-color: var(--sklearn-color-unfitted-level-3);\n",
       "  color: var(--sklearn-color-background);\n",
       "  text-decoration: none;\n",
       "}\n",
       "\n",
       "#sk-container-id-1 a.estimator_doc_link.fitted:hover {\n",
       "  /* fitted */\n",
       "  background-color: var(--sklearn-color-fitted-level-3);\n",
       "}\n",
       "</style><div id=\"sk-container-id-1\" class=\"sk-top-container\"><div class=\"sk-text-repr-fallback\"><pre>LinearRegression()</pre><b>In a Jupyter environment, please rerun this cell to show the HTML representation or trust the notebook. <br />On GitHub, the HTML representation is unable to render, please try loading this page with nbviewer.org.</b></div><div class=\"sk-container\" hidden><div class=\"sk-item\"><div class=\"sk-estimator fitted sk-toggleable\"><input class=\"sk-toggleable__control sk-hidden--visually\" id=\"sk-estimator-id-1\" type=\"checkbox\" checked><label for=\"sk-estimator-id-1\" class=\"sk-toggleable__label fitted sk-toggleable__label-arrow\"><div><div>LinearRegression</div></div><div><a class=\"sk-estimator-doc-link fitted\" rel=\"noreferrer\" target=\"_blank\" href=\"https://scikit-learn.org/1.6/modules/generated/sklearn.linear_model.LinearRegression.html\">?<span>Documentation for LinearRegression</span></a><span class=\"sk-estimator-doc-link fitted\">i<span>Fitted</span></span></div></label><div class=\"sk-toggleable__content fitted\"><pre>LinearRegression()</pre></div> </div></div></div></div>"
      ],
      "text/plain": [
       "LinearRegression()"
      ]
     },
     "execution_count": 35,
     "metadata": {},
     "output_type": "execute_result"
    }
   ],
   "source": [
    "#Create Linear Regression Model\n",
    "regr=linear_model.LinearRegression()\n",
    "y=mydata[['Miles']]\n",
    "x=mydata[['Usage','Fitness']]\n",
    "#Train the model using the training sets              \n",
    "regr.fit(x,y)\n",
    "\n"
   ]
  },
  {
   "cell_type": "code",
   "execution_count": 36,
   "id": "4effb46a",
   "metadata": {},
   "outputs": [
    {
     "name": "stdout",
     "output_type": "stream",
     "text": [
      "The coefficient for Usage is 20.214863339075364\n",
      "The coefficient for Fitness is 27.206499537469593\n"
     ]
    }
   ],
   "source": [
    "for idx, col_name in enumerate(x.columns):\n",
    "    print(\"The coefficient for {} is {}\".format(col_name, regr.coef_[0][idx]))"
   ]
  },
  {
   "cell_type": "code",
   "execution_count": 37,
   "id": "d43dd23b",
   "metadata": {},
   "outputs": [
    {
     "data": {
      "text/plain": [
       "array([[20.21486334, 27.20649954]])"
      ]
     },
     "execution_count": 37,
     "metadata": {},
     "output_type": "execute_result"
    }
   ],
   "source": [
    "regr.coef_\n"
   ]
  },
  {
   "cell_type": "code",
   "execution_count": 38,
   "id": "c6b4d737",
   "metadata": {},
   "outputs": [
    {
     "name": "stdout",
     "output_type": "stream",
     "text": [
      "The intercept for our model is -56.742881784648645\n"
     ]
    }
   ],
   "source": [
    "intercept = regr.intercept_[0]\n",
    "\n",
    "print(\"The intercept for our model is {}\".format(intercept))\n"
   ]
  },
  {
   "cell_type": "code",
   "execution_count": 39,
   "id": "d1572397",
   "metadata": {},
   "outputs": [
    {
     "data": {
      "text/plain": [
       "array([-56.74288178])"
      ]
     },
     "execution_count": 39,
     "metadata": {},
     "output_type": "execute_result"
    }
   ],
   "source": [
    "regr.intercept_"
   ]
  },
  {
   "cell_type": "code",
   "execution_count": 40,
   "id": "15bfad6b",
   "metadata": {},
   "outputs": [],
   "source": [
    "#Make predictions using the testing set\n",
    "predictions=regr.predict(x)\n"
   ]
  },
  {
   "cell_type": "code",
   "execution_count": 41,
   "id": "873b2363",
   "metadata": {},
   "outputs": [
    {
     "name": "stdout",
     "output_type": "stream",
     "text": [
      "[[112.72770638]\n",
      " [ 65.30634351]\n",
      " [105.73607018]\n",
      " [ 85.52120684]\n",
      " [ 78.52957065]]\n"
     ]
    }
   ],
   "source": [
    "print(predictions[:5])  # Display first 5 predictions\n"
   ]
  },
  {
   "cell_type": "code",
   "execution_count": 42,
   "id": "455539bb",
   "metadata": {},
   "outputs": [
    {
     "name": "stdout",
     "output_type": "stream",
     "text": [
      "[[20.21486334 27.20649954]]\n",
      "[-56.74288178]\n",
      "0.7161852926941896\n"
     ]
    }
   ],
   "source": [
    "print(regr.coef_)  # Display coefficients\n",
    "print(regr.intercept_)  # Display intercept\n",
    "print(regr.score(x,y))  # Display R-squared score"
   ]
  },
  {
   "cell_type": "code",
   "execution_count": null,
   "id": "7b957b21",
   "metadata": {},
   "outputs": [],
   "source": []
  }
 ],
 "metadata": {
  "kernelspec": {
   "display_name": "Python 3",
   "language": "python",
   "name": "python3"
  },
  "language_info": {
   "codemirror_mode": {
    "name": "ipython",
    "version": 3
   },
   "file_extension": ".py",
   "mimetype": "text/x-python",
   "name": "python",
   "nbconvert_exporter": "python",
   "pygments_lexer": "ipython3",
   "version": "3.13.3"
  }
 },
 "nbformat": 4,
 "nbformat_minor": 5
}
