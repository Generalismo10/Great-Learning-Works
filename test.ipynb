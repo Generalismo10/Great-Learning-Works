import pandas as pd
import numpy as np
import matplotlib.pyplot as plt
from sklearn.model_selection import train_test_split
from sklearn.linear_model import LinearRegression
from sklearn.metrics import mean_squared_error, r2_score

# --- Load and Initial Prep ---
mydata = pd.read_csv('CardioGoodFitness.csv')

# Ensure numerical columns are indeed numeric
numerical_cols = ['Age', 'Education', 'Usage', 'Fitness', 'Income', 'Miles']
for col in numerical_cols:
         mydata[col] = pd.to_numeric(mydata[col], errors='coerce')
mydata.dropna(subset=numerical_cols, inplace=True)

# --- Multiple Linear Regression ---
print("\n--- Multiple Linear Regression ---")

# Define features (X) and target (y)
features = ['Usage', 'Fitness']
target = 'Miles'
X = mydata[features]
y = mydata[target]

# Split data into training and testing sets
X_train, X_test, y_train, y_test = train_test_split(X, y, test_size=0.3, random_state=42)

print(f"Training set size: {X_train.shape[0]} samples")
print(f"Testing set size: {X_test.shape[0]} samples")

# Create and Train the Linear Regression Model
regr = LinearRegression()
regr.fit(X_train, y_train)

# Analyze the Trained Model
print("\n--- Model Analysis ---")
print("Coefficients:")
for feature, coef in zip(features, regr.coef_):
         print(f"  {feature}: {coef:.3f}")
print(f"\nIntercept: {regr.intercept_:.3f}")

# Evaluate the Model on the TEST set
print("\n--- Model Evaluation (on Test Set) ---")
y_pred = regr.predict(X_test)

# Calculate Metrics
r2 = r2_score(y_test, y_pred)
mse = mean_squared_error(y_test, y_pred)
rmse = np.sqrt(mse)

print(f"R-squared (R2): {r2:.3f}")
print(f"Mean Squared Error (MSE): {mse:.3f}")
print(f"Root Mean Squared Error (RMSE): {rmse:.3f}")

# Evaluate on Training Set
print("\n--- Model Score (on Training Set for comparison) ---")
r2_train = regr.score(X_train, y_train)
print(f"R-squared (R2) on Training Data: {r2_train:.3f}")

# Visualize Predictions vs Actuals
plt.figure(figsize=(8, 6))
plt.scatter(y_test, y_pred, alpha=0.7, edgecolors='k')
plt.plot([y_test.min(), y_test.max()], [y_test.min(), y_test.max()], 'r--', lw=2)
plt.xlabel("Actual Miles")
plt.ylabel("Predicted Miles")
plt.title("Actual vs. Predicted Miles (Test Set)")
plt.grid(True)
plt.show()
